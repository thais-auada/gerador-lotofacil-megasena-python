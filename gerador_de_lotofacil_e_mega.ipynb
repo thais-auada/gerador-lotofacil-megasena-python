{
  "nbformat": 4,
  "nbformat_minor": 0,
  "metadata": {
    "colab": {
      "provenance": [],
      "collapsed_sections": [],
      "authorship_tag": "ABX9TyPAb4ZwzhxmlQnxlsREkpgt",
      "include_colab_link": true
    },
    "kernelspec": {
      "name": "python3",
      "display_name": "Python 3"
    },
    "language_info": {
      "name": "python"
    }
  },
  "cells": [
    {
      "cell_type": "markdown",
      "metadata": {
        "id": "view-in-github",
        "colab_type": "text"
      },
      "source": [
        "<a href=\"https://colab.research.google.com/github/thais-auada/gerador-lotofacil-megasena-python/blob/main/gerador_de_lotofacil_e_mega.ipynb\" target=\"_parent\"><img src=\"https://colab.research.google.com/assets/colab-badge.svg\" alt=\"Open In Colab\"/></a>"
      ]
    },
    {
      "cell_type": "code",
      "execution_count": null,
      "metadata": {
        "colab": {
          "base_uri": "https://localhost:8080/"
        },
        "id": "1GaMcHfPXOb-",
        "outputId": "fc58571a-2b7e-4325-f2a8-3335036f70eb"
      },
      "outputs": [
        {
          "output_type": "stream",
          "name": "stdout",
          "text": [
            "[3, 27, 45, 32, 43, 34]\n"
          ]
        }
      ],
      "source": [
        "#megasena uma vez\n",
        "from random import randint\n",
        "\n",
        "\n",
        "#computador = randint(1, 60) #faz o computador pensar\n",
        "lista = list()\n",
        "cont = 0\n",
        "while True:\n",
        "  num = randint(1, 60)\n",
        "  if num not in lista:\n",
        "    lista.append(num)\n",
        "    cont +=1\n",
        "  if cont >=6:\n",
        "    break\n",
        "lista.sort\n",
        "print(lista)\n"
      ]
    },
    {
      "cell_type": "code",
      "source": [
        "#megasena varias vezes\n",
        "from random import randint\n",
        "\n",
        "\n",
        "#computador = randint(1, 60) #faz o computador pensar\n",
        "lista = list()\n",
        "jogos = list()\n",
        "quantidade = int(input(\"Quantos jogos vc quer que eu faça?: \"))\n",
        "total = 1\n",
        "while total <= quantidade:\n",
        "  cont = 0\n",
        "  while True:\n",
        "    num = randint(1, 60)\n",
        "    if num not in lista:\n",
        "      lista.append(num)\n",
        "      cont +=1\n",
        "    if cont >=6:\n",
        "      break\n",
        "  lista.sort()\n",
        "  jogos.append(lista[:])\n",
        "  lista.clear()\n",
        "  total +=1\n",
        "for i,l in enumerate(jogos):\n",
        "  print(f'{i+1}: {l}')"
      ],
      "metadata": {
        "colab": {
          "base_uri": "https://localhost:8080/"
        },
        "id": "ONuMUwidK6Na",
        "outputId": "0985f99c-2991-46ff-ec46-09b59b0ecd5c"
      },
      "execution_count": null,
      "outputs": [
        {
          "output_type": "stream",
          "name": "stdout",
          "text": [
            "Quantos jogos vc quer que eu faça?: 2\n",
            "1: [15, 19, 21, 34, 43, 55]\n",
            "2: [7, 18, 41, 44, 49, 58]\n"
          ]
        }
      ]
    },
    {
      "cell_type": "code",
      "source": [
        "# lotofacil\n",
        "import random\n",
        "x = random.sample(range(25),15)\n",
        "print(x)"
      ],
      "metadata": {
        "colab": {
          "base_uri": "https://localhost:8080/"
        },
        "id": "PIYkQ7AcaYS4",
        "outputId": "ac4b8d38-eb59-4141-b962-c71bd477c5a5"
      },
      "execution_count": null,
      "outputs": [
        {
          "output_type": "stream",
          "name": "stdout",
          "text": [
            "[13, 5, 8, 15, 4, 23, 2, 19, 10, 7, 17, 14, 9, 16, 1]\n"
          ]
        }
      ]
    },
    {
      "cell_type": "code",
      "source": [
        "# megasena\n",
        "\n",
        "import random\n",
        "x = random.sample(range(60),6)\n",
        "print(x)\n"
      ],
      "metadata": {
        "colab": {
          "base_uri": "https://localhost:8080/"
        },
        "id": "aVCF8c9vH-94",
        "outputId": "5971669d-9c84-4ac0-e32b-9702c1d37887"
      },
      "execution_count": null,
      "outputs": [
        {
          "output_type": "stream",
          "name": "stdout",
          "text": [
            "[37, 48, 17, 23, 41, 43]\n"
          ]
        }
      ]
    }
  ]
}