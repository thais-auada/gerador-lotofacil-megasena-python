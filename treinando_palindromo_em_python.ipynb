{
  "nbformat": 4,
  "nbformat_minor": 0,
  "metadata": {
    "colab": {
      "provenance": [],
      "collapsed_sections": [],
      "authorship_tag": "ABX9TyMBO5qlwYWt+kOlp2CCldHV",
      "include_colab_link": true
    },
    "kernelspec": {
      "name": "python3",
      "display_name": "Python 3"
    },
    "language_info": {
      "name": "python"
    }
  },
  "cells": [
    {
      "cell_type": "markdown",
      "metadata": {
        "id": "view-in-github",
        "colab_type": "text"
      },
      "source": [
        "<a href=\"https://colab.research.google.com/github/thais-auada/gerador-lotofacil-megasena-python/blob/main/treinando_palindromo_em_python.ipynb\" target=\"_parent\"><img src=\"https://colab.research.google.com/assets/colab-badge.svg\" alt=\"Open In Colab\"/></a>"
      ]
    },
    {
      "cell_type": "code",
      "execution_count": null,
      "metadata": {
        "colab": {
          "base_uri": "https://localhost:8080/"
        },
        "id": "bKwstUS-wUr5",
        "outputId": "089363d5-d4d3-4ec6-e899-0a0450a3dc1c"
      },
      "outputs": [
        {
          "output_type": "stream",
          "name": "stdout",
          "text": [
            "Digite uma frase, ou palavra e descubra como ela fica ao contrário \n",
            " \t e se é um PALINDROMO ou não, mas não use acentos:\n",
            "\t\tana\n",
            "-=-=-=-=-=-=-=-=-=-=-=-=-=-=-=-=-=-=-=-=-=-=-=-=-=-=-=-=-=-=\n",
            "\t Analisando a palavra ou frase e invertendo \n",
            " \t\t AGUARDE POR FAVOR\n",
            "\n",
            "\t \tA palavra ou frase: \n",
            " \t \t \tANA \n",
            " \t \tao contrário é: \n",
            " \t \t\t ANA\n",
            "-=-=-=-=-=-=-=-=-=-=-=-=-=-=-=-=-=-=-=-=-=-=-=-=-=-=-=-=-=-=\n",
            "\t \tÉ PALINDROMO! :)\n",
            "-=-=-=-=-=-=-=-=-=-=-=-=-=-=-=-=-=-=-=-=-=-=-=-=-=-=-=-=-=-=\n",
            "Frase ou palavra analisada em letras maiúsculas e tudo junto : \n",
            " \t \t \tANA\n"
          ]
        }
      ],
      "source": [
        "from time import sleep\n",
        "frase = str(input('Digite uma frase, ou palavra e descubra como ela fica ao contrário \\n \\t e se é um PALINDROMO ou não, mas não use acentos:\\n\\t\\t')).strip().upper()\n",
        "palavras = frase.split()\n",
        "junto = ''.join(palavras)\n",
        "inverso = ''\n",
        "for letra in range (len(junto) - 1, -1, -1):\n",
        "  inverso += junto[letra]\n",
        "print('-=' *30)\n",
        "print('\\t Analisando a palavra ou frase e invertendo \\n \\t\\t AGUARDE POR FAVOR')\n",
        "sleep(5) \n",
        "print('\\n\\t \\tA palavra ou frase: \\n \\t \\t \\t{} \\n \\t \\tao contrário é: \\n \\t \\t\\t {}'.format(junto, inverso))\n",
        "print('-='*30)\n",
        "if inverso == junto:\n",
        "    print('\\t \\tÉ PALINDROMO! :)')\n",
        "else:\n",
        "    print('\\t\\t\\t Não é palindromo. :( ')\n",
        "print('-='*30)\n",
        "\n",
        "print('Frase ou palavra analisada em letras maiúsculas e tudo junto : \\n \\t \\t \\t{}'.format(junto))\n"
      ]
    },
    {
      "cell_type": "code",
      "source": [
        "from time import sleep\n",
        "frase = str(input('Digite uma frase, ou palavra e descubra como ela fica ao contrário \\n \\t e se é um PALINDROMO ou não, mas não use acentos:\\n\\t\\t')).strip().upper()\n",
        "palavras = frase.split()\n",
        "junto = ''.join(palavras)\n",
        "inverso = ''\n",
        "inverso = junto[::-1]\n",
        "print('-=' *30)\n",
        "print('\\t Analisando a palavra ou frase e invertendo \\n \\t\\t AGUARDE POR FAVOR')\n",
        "sleep(2)\n",
        "print('\\n\\t \\tA palavra ou frase: \\n \\t \\t \\t{} \\n \\t \\tao contrário é: \\n \\t \\t\\t {}'.format(junto, inverso))\n",
        "print('-='*30)\n",
        "if inverso == junto:\n",
        "    print('\\t \\tÉ PALINDROMO! :)')\n",
        "else:\n",
        "    print('\\t\\t\\t Não é palindromo. :( ')\n",
        "print('-='*30)\n",
        "\n",
        "print('Frase ou palavra analisada em letras maiúsculas e tudo junto : \\n \\t \\t \\t{}'.format(junto))\n"
      ],
      "metadata": {
        "colab": {
          "base_uri": "https://localhost:8080/"
        },
        "id": "19QXl5NU_DnG",
        "outputId": "8816c001-772a-4256-df97-27a30794abf1"
      },
      "execution_count": null,
      "outputs": [
        {
          "output_type": "stream",
          "name": "stdout",
          "text": [
            "Digite uma frase, ou palavra e descubra como ela fica ao contrário \n",
            " \t e se é um PALINDROMO ou não, mas não use acentos:\n",
            "\t\taua\n",
            "-=-=-=-=-=-=-=-=-=-=-=-=-=-=-=-=-=-=-=-=-=-=-=-=-=-=-=-=-=-=\n",
            "\t Analisando a palavra ou frase e invertendo \n",
            " \t\t AGUARDE POR FAVOR\n",
            "\n",
            "\t \tA palavra ou frase: \n",
            " \t \t \tAUA \n",
            " \t \tao contrário é: \n",
            " \t \t\t AUA\n",
            "-=-=-=-=-=-=-=-=-=-=-=-=-=-=-=-=-=-=-=-=-=-=-=-=-=-=-=-=-=-=\n",
            "\t \tÉ PALINDROMO! :)\n",
            "-=-=-=-=-=-=-=-=-=-=-=-=-=-=-=-=-=-=-=-=-=-=-=-=-=-=-=-=-=-=\n",
            "Frase ou palavra analisada em letras maiúsculas e tudo junto : \n",
            " \t \t \tAUA\n"
          ]
        }
      ]
    }
  ]
}